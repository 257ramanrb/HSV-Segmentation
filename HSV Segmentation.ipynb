{
 "cells": [
  {
   "cell_type": "code",
   "execution_count": 1,
   "metadata": {},
   "outputs": [],
   "source": [
    "####### HSV - noisy\n",
    "\n",
    "import cv2\n",
    "import numpy as np\n",
    "\n",
    "cap = cv2.VideoCapture(0)\n",
    "top, right, bottom, left = 10, 350, 225, 590\n",
    "\n",
    "while(1):\n",
    "\n",
    "    # Take each frame\n",
    "    _, frame = cap.read()\n",
    "    roi = frame[top:bottom, right:left]\n",
    "    \n",
    "    # Convert BGR to HSV\n",
    "    hsv = cv2.cvtColor(roi, cv2.COLOR_BGR2HSV)\n",
    "\n",
    "    # define range of skin color in HSV\n",
    "    lower_skin = np.array([0,48,80])\n",
    "    upper_skin = np.array([20,255,255])\n",
    "\n",
    "    # Threshold the HSV image to get only skin colors\n",
    "    mask = cv2.inRange(hsv, lower_skin, upper_skin)\n",
    "    \n",
    "\n",
    "    # Bitwise-AND mask and original image\n",
    "    res = cv2.bitwise_and(roi,roi, mask= mask)\n",
    "    \n",
    "    thresholded = cv2.threshold(mask,\n",
    "                                50,\n",
    "                                255,\n",
    "                                cv2.THRESH_BINARY)[1]\n",
    "    \n",
    "    (_, cnts, _) = cv2.findContours(thresholded.copy(),\n",
    "                                    cv2.RETR_EXTERNAL,\n",
    "                                    cv2.CHAIN_APPROX_SIMPLE)\n",
    "    \n",
    "    if(len(cnts)!=0):\n",
    "        segmented = max(cnts, key=cv2.contourArea)\n",
    "        cv2.drawContours(frame, [segmented + (right, top)], -1, (0, 0, 255)) #red line around hand in ROI of video\n",
    "    \n",
    "    cv2.rectangle(frame, (left, top), (right, bottom), (0,255,0), 2)\n",
    "    \n",
    "    cv2.imshow('frame',frame)\n",
    "    #cv2.imshow('mask',mask)\n",
    "    cv2.imshow('res',res)\n",
    "    cv2.imshow('thresholded',thresholded)\n",
    "   \n",
    "  \n",
    "\n",
    "    k = cv2.waitKey(5) & 0xFF\n",
    "    if k == 27:\n",
    "        break\n",
    "#press ESC to exit\n",
    "cv2.destroyAllWindows()\n"
   ]
  }
 ],
 "metadata": {
  "kernelspec": {
   "display_name": "Python 3",
   "language": "python",
   "name": "python3"
  },
  "language_info": {
   "codemirror_mode": {
    "name": "ipython",
    "version": 3
   },
   "file_extension": ".py",
   "mimetype": "text/x-python",
   "name": "python",
   "nbconvert_exporter": "python",
   "pygments_lexer": "ipython3",
   "version": "3.6.4"
  }
 },
 "nbformat": 4,
 "nbformat_minor": 2
}
